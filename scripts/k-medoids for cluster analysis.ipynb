{
 "cells": [
  {
   "cell_type": "markdown",
   "metadata": {},
   "source": [
    "#### This notebook uses the R programming language for data analysis"
   ]
  },
  {
   "cell_type": "markdown",
   "metadata": {},
   "source": [
    "#### The concept of Partition Around Medoids (PAM) algorithm\n",
    "In summary, PAM algorithm proceeds in two phases as follow:\n",
    "\n",
    "Build phase:\n",
    "\n",
    "1. Select k objects to become the medoids, or in case these objects were provided use them as the medoids;\n",
    "2. Calculate the dissimilarity matrix if it was not provided;\n",
    "3. Assign every object to its closest medoid;\n",
    "\n",
    "Swap phase: \n",
    "\n",
    "4. For each cluster search if any of the object of the cluster decreases the average dissimilarity coefficient; if it does, select the entity that decreases this coefficient the most as the medoid for this cluster; \n",
    "5. If at least one medoid has changed go to (3), else end the algorithm.\n",
    "    \n",
    "The PAM algorithm works with a matrix of dissimilarity, and to compute this matrix the algorithm can use two metrics:\n",
    "\n",
    "The euclidean distances, that are the root sum-of-squares of differences;\n",
    "And, the Manhattan distance that are the sum of absolute distances.\n",
    "    \n",
    "**Note** \n",
    "Note that, in practice, you should get similar results most of the time, using either euclidean or Manhattan distance. If your data contains outliers, Manhattan distance should give more robust results, whereas euclidean would be influenced by unusual values."
   ]
  },
  {
   "cell_type": "markdown",
   "metadata": {},
   "source": [
    "#### Computing PAM in R"
   ]
  },
  {
   "cell_type": "code",
   "execution_count": 7,
   "metadata": {},
   "outputs": [
    {
     "data": {
      "text/html": [
       "<table>\n",
       "<thead><tr><th></th><th scope=col>Murder</th><th scope=col>Assault</th><th scope=col>UrbanPop</th><th scope=col>Rape</th></tr></thead>\n",
       "<tbody>\n",
       "\t<tr><th scope=row>Alabama</th><td>1.24256408  </td><td>0.7828393   </td><td>-0.5209066  </td><td>-0.003416473</td></tr>\n",
       "\t<tr><th scope=row>Alaska</th><td>0.50786248  </td><td>1.1068225   </td><td>-1.2117642  </td><td> 2.484202941</td></tr>\n",
       "\t<tr><th scope=row>Arizona</th><td>0.07163341  </td><td>1.4788032   </td><td> 0.9989801  </td><td> 1.042878388</td></tr>\n",
       "\t<tr><th scope=row>Arkansas</th><td>0.23234938  </td><td>0.2308680   </td><td>-1.0735927  </td><td>-0.184916602</td></tr>\n",
       "\t<tr><th scope=row>California</th><td>0.27826823  </td><td>1.2628144   </td><td> 1.7589234  </td><td> 2.067820292</td></tr>\n",
       "</tbody>\n",
       "</table>\n"
      ],
      "text/latex": [
       "\\begin{tabular}{r|llll}\n",
       "  & Murder & Assault & UrbanPop & Rape\\\\\n",
       "\\hline\n",
       "\tAlabama & 1.24256408   & 0.7828393    & -0.5209066   & -0.003416473\\\\\n",
       "\tAlaska & 0.50786248   & 1.1068225    & -1.2117642   &  2.484202941\\\\\n",
       "\tArizona & 0.07163341   & 1.4788032    &  0.9989801   &  1.042878388\\\\\n",
       "\tArkansas & 0.23234938   & 0.2308680    & -1.0735927   & -0.184916602\\\\\n",
       "\tCalifornia & 0.27826823   & 1.2628144    &  1.7589234   &  2.067820292\\\\\n",
       "\\end{tabular}\n"
      ],
      "text/markdown": [
       "\n",
       "| <!--/--> | Murder | Assault | UrbanPop | Rape | \n",
       "|---|---|---|---|---|\n",
       "| Alabama | 1.24256408   | 0.7828393    | -0.5209066   | -0.003416473 | \n",
       "| Alaska | 0.50786248   | 1.1068225    | -1.2117642   |  2.484202941 | \n",
       "| Arizona | 0.07163341   | 1.4788032    |  0.9989801   |  1.042878388 | \n",
       "| Arkansas | 0.23234938   | 0.2308680    | -1.0735927   | -0.184916602 | \n",
       "| California | 0.27826823   | 1.2628144    |  1.7589234   |  2.067820292 | \n",
       "\n",
       "\n"
      ],
      "text/plain": [
       "           Murder     Assault   UrbanPop   Rape        \n",
       "Alabama    1.24256408 0.7828393 -0.5209066 -0.003416473\n",
       "Alaska     0.50786248 1.1068225 -1.2117642  2.484202941\n",
       "Arizona    0.07163341 1.4788032  0.9989801  1.042878388\n",
       "Arkansas   0.23234938 0.2308680 -1.0735927 -0.184916602\n",
       "California 0.27826823 1.2628144  1.7589234  2.067820292"
      ]
     },
     "metadata": {},
     "output_type": "display_data"
    }
   ],
   "source": [
    "# load the data\n",
    "data(\"USArrests\")\n",
    "df<- scale(USArrests) # Scale the data\n",
    "head(df,5) # look at the first five rows of the data"
   ]
  },
  {
   "cell_type": "code",
   "execution_count": 5,
   "metadata": {},
   "outputs": [],
   "source": [
    "# load the required packages\n",
    "library(cluster)\n",
    "library(factoextra)\n",
    "library(fpc)\n",
    "library(ggplot2) "
   ]
  },
  {
   "cell_type": "markdown",
   "metadata": {},
   "source": [
    "The function `pam()` [cluster package] and `pamk()` [fpc package] can be used to compute PAM."
   ]
  },
  {
   "cell_type": "markdown",
   "metadata": {
    "collapsed": true
   },
   "source": [
    "Now lets determine the possible number of clusters in a dataset. As we can see using the function `fviz_nbclust()` generates the plot. From the plot, the suggested number of clusters is 2. In the next section, we’ll classify the observations into 2 clusters."
   ]
  },
  {
   "cell_type": "code",
   "execution_count": 8,
   "metadata": {},
   "outputs": [
    {
     "data": {},
     "metadata": {},
     "output_type": "display_data"
    },
    {
     "data": {
      "image/png": "[encoded data removed]",
      "text/plain": [
       "plot without title"
      ]
     },
     "metadata": {},
     "output_type": "display_data"
    }
   ],
   "source": [
    "fviz_nbclust(df, pam, method = \"silhouette\")+\n",
    "  theme_classic()"
   ]
  },
  {
   "cell_type": "markdown",
   "metadata": {},
   "source": [
    "Computing PAM clustering\n",
    "\n",
    "The R code below computes PAM algorithm with k = 2"
   ]
  },
  {
   "cell_type": "code",
   "execution_count": 9,
   "metadata": {},
   "outputs": [
    {
     "name": "stdout",
     "output_type": "stream",
     "text": [
      "Medoids:\n",
      "           ID     Murder    Assault   UrbanPop       Rape\n",
      "New Mexico 31  0.8292944  1.3708088  0.3081225  1.1603196\n",
      "Nebraska   27 -0.8008247 -0.8250772 -0.2445636 -0.5052109\n",
      "Clustering vector:\n",
      "       Alabama         Alaska        Arizona       Arkansas     California \n",
      "             1              1              1              2              1 \n",
      "      Colorado    Connecticut       Delaware        Florida        Georgia \n",
      "             1              2              2              1              1 \n",
      "        Hawaii          Idaho       Illinois        Indiana           Iowa \n",
      "             2              2              1              2              2 \n",
      "        Kansas       Kentucky      Louisiana          Maine       Maryland \n",
      "             2              2              1              2              1 \n",
      " Massachusetts       Michigan      Minnesota    Mississippi       Missouri \n",
      "             2              1              2              1              1 \n",
      "       Montana       Nebraska         Nevada  New Hampshire     New Jersey \n",
      "             2              2              1              2              2 \n",
      "    New Mexico       New York North Carolina   North Dakota           Ohio \n",
      "             1              1              1              2              2 \n",
      "      Oklahoma         Oregon   Pennsylvania   Rhode Island South Carolina \n",
      "             2              2              2              2              1 \n",
      "  South Dakota      Tennessee          Texas           Utah        Vermont \n",
      "             2              1              1              2              2 \n",
      "      Virginia     Washington  West Virginia      Wisconsin        Wyoming \n",
      "             2              2              2              2              2 \n",
      "Objective function:\n",
      "   build     swap \n",
      "1.441358 1.368969 \n",
      "\n",
      "Available components:\n",
      " [1] \"medoids\"    \"id.med\"     \"clustering\" \"objective\"  \"isolation\" \n",
      " [6] \"clusinfo\"   \"silinfo\"    \"diss\"       \"call\"       \"data\"      \n"
     ]
    }
   ],
   "source": [
    "pam.res <- pam(df, 2)\n",
    "print(pam.res)"
   ]
  },
  {
   "cell_type": "markdown",
   "metadata": {},
   "source": [
    "The printed output shows:\n",
    "\n",
    "- the cluster medoids: a matrix, which rows are the medoids and columns are variables\n",
    "- the clustering vector: A vector of integers (from 1:k) indicating the cluster to which each point is allocated\n",
    "\n",
    "If you want to add the point classifications to the original data, use the following code;"
   ]
  },
  {
   "cell_type": "code",
   "execution_count": 10,
   "metadata": {},
   "outputs": [
    {
     "data": {
      "text/html": [
       "<table>\n",
       "<thead><tr><th></th><th scope=col>Murder</th><th scope=col>Assault</th><th scope=col>UrbanPop</th><th scope=col>Rape</th><th scope=col>cluster</th></tr></thead>\n",
       "<tbody>\n",
       "\t<tr><th scope=row>Alabama</th><td>13.2</td><td>236 </td><td>58  </td><td>21.2</td><td>1   </td></tr>\n",
       "\t<tr><th scope=row>Alaska</th><td>10.0</td><td>263 </td><td>48  </td><td>44.5</td><td>1   </td></tr>\n",
       "\t<tr><th scope=row>Arizona</th><td> 8.1</td><td>294 </td><td>80  </td><td>31.0</td><td>1   </td></tr>\n",
       "</tbody>\n",
       "</table>\n"
      ],
      "text/latex": [
       "\\begin{tabular}{r|lllll}\n",
       "  & Murder & Assault & UrbanPop & Rape & cluster\\\\\n",
       "\\hline\n",
       "\tAlabama & 13.2 & 236  & 58   & 21.2 & 1   \\\\\n",
       "\tAlaska & 10.0 & 263  & 48   & 44.5 & 1   \\\\\n",
       "\tArizona &  8.1 & 294  & 80   & 31.0 & 1   \\\\\n",
       "\\end{tabular}\n"
      ],
      "text/markdown": [
       "\n",
       "| <!--/--> | Murder | Assault | UrbanPop | Rape | cluster | \n",
       "|---|---|---|\n",
       "| Alabama | 13.2 | 236  | 58   | 21.2 | 1    | \n",
       "| Alaska | 10.0 | 263  | 48   | 44.5 | 1    | \n",
       "| Arizona |  8.1 | 294  | 80   | 31.0 | 1    | \n",
       "\n",
       "\n"
      ],
      "text/plain": [
       "        Murder Assault UrbanPop Rape cluster\n",
       "Alabama 13.2   236     58       21.2 1      \n",
       "Alaska  10.0   263     48       44.5 1      \n",
       "Arizona  8.1   294     80       31.0 1      "
      ]
     },
     "metadata": {},
     "output_type": "display_data"
    }
   ],
   "source": [
    "dd <- cbind(USArrests, cluster = pam.res$cluster)\n",
    "head(dd, n = 3)"
   ]
  },
  {
   "cell_type": "markdown",
   "metadata": {},
   "source": [
    "Accessing to the results of the pam() function\n",
    "\n",
    "The function pam() returns an object of class pam which components include:\n",
    "\n",
    "- medoids: Objects that represent clusters\n",
    "- clustering: a vector containing the cluster number of each object\n",
    "\n",
    "These components can be accessed as follow;"
   ]
  },
  {
   "cell_type": "code",
   "execution_count": 11,
   "metadata": {},
   "outputs": [
    {
     "data": {
      "text/html": [
       "<table>\n",
       "<thead><tr><th></th><th scope=col>Murder</th><th scope=col>Assault</th><th scope=col>UrbanPop</th><th scope=col>Rape</th></tr></thead>\n",
       "<tbody>\n",
       "\t<tr><th scope=row>New Mexico</th><td> 0.8292944</td><td> 1.3708088</td><td> 0.3081225</td><td> 1.1603196</td></tr>\n",
       "\t<tr><th scope=row>Nebraska</th><td>-0.8008247</td><td>-0.8250772</td><td>-0.2445636</td><td>-0.5052109</td></tr>\n",
       "</tbody>\n",
       "</table>\n"
      ],
      "text/latex": [
       "\\begin{tabular}{r|llll}\n",
       "  & Murder & Assault & UrbanPop & Rape\\\\\n",
       "\\hline\n",
       "\tNew Mexico &  0.8292944 &  1.3708088 &  0.3081225 &  1.1603196\\\\\n",
       "\tNebraska & -0.8008247 & -0.8250772 & -0.2445636 & -0.5052109\\\\\n",
       "\\end{tabular}\n"
      ],
      "text/markdown": [
       "\n",
       "| <!--/--> | Murder | Assault | UrbanPop | Rape | \n",
       "|---|---|\n",
       "| New Mexico |  0.8292944 |  1.3708088 |  0.3081225 |  1.1603196 | \n",
       "| Nebraska | -0.8008247 | -0.8250772 | -0.2445636 | -0.5052109 | \n",
       "\n",
       "\n"
      ],
      "text/plain": [
       "           Murder     Assault    UrbanPop   Rape      \n",
       "New Mexico  0.8292944  1.3708088  0.3081225  1.1603196\n",
       "Nebraska   -0.8008247 -0.8250772 -0.2445636 -0.5052109"
      ]
     },
     "metadata": {},
     "output_type": "display_data"
    }
   ],
   "source": [
    "# Cluster medoids: New Mexico, Nebraska\n",
    "pam.res$medoids"
   ]
  },
  {
   "cell_type": "code",
   "execution_count": 12,
   "metadata": {},
   "outputs": [
    {
     "data": {
      "text/html": [
       "<dl class=dl-horizontal>\n",
       "\t<dt>Alabama</dt>\n",
       "\t\t<dd>1</dd>\n",
       "\t<dt>Alaska</dt>\n",
       "\t\t<dd>1</dd>\n",
       "\t<dt>Arizona</dt>\n",
       "\t\t<dd>1</dd>\n",
       "\t<dt>Arkansas</dt>\n",
       "\t\t<dd>2</dd>\n",
       "\t<dt>California</dt>\n",
       "\t\t<dd>1</dd>\n",
       "\t<dt>Colorado</dt>\n",
       "\t\t<dd>1</dd>\n",
       "</dl>\n"
      ],
      "text/latex": [
       "\\begin{description*}\n",
       "\\item[Alabama] 1\n",
       "\\item[Alaska] 1\n",
       "\\item[Arizona] 1\n",
       "\\item[Arkansas] 2\n",
       "\\item[California] 1\n",
       "\\item[Colorado] 1\n",
       "\\end{description*}\n"
      ],
      "text/markdown": [
       "Alabama\n",
       ":   1Alaska\n",
       ":   1Arizona\n",
       ":   1Arkansas\n",
       ":   2California\n",
       ":   1Colorado\n",
       ":   1\n",
       "\n"
      ],
      "text/plain": [
       "   Alabama     Alaska    Arizona   Arkansas California   Colorado \n",
       "         1          1          1          2          1          1 "
      ]
     },
     "metadata": {},
     "output_type": "display_data"
    }
   ],
   "source": [
    "# cluster numbers\n",
    "head(pam.res$clustering)"
   ]
  },
  {
   "cell_type": "markdown",
   "metadata": {},
   "source": [
    "Visualizing PAM clusters\n",
    "\n",
    "To visualize the partitioning results, we’ll use the function `fviz_cluster()` [factoextra package]. It draws a scatter plot of data points colored by cluster numbers. If the data contains more than 2 variables, the Principal Component Analysis (PCA) algorithm is used to reduce the dimensionality of the data. In this case, the first two principal dimensions are used to plot the data."
   ]
  },
  {
   "cell_type": "code",
   "execution_count": 13,
   "metadata": {},
   "outputs": [
    {
     "data": {},
     "metadata": {},
     "output_type": "display_data"
    },
    {
     "data": {
      "image/png": "[encoded data removed]",
      "text/plain": [
       "plot without title"
      ]
     },
     "metadata": {},
     "output_type": "display_data"
    }
   ],
   "source": [
    "fviz_cluster(pam.res, \n",
    "             palette = c(\"#00AFBB\", \"#FC4E07\"), # color palette\n",
    "             ellipse.type = \"t\", # Concentration ellipse\n",
    "             repel = TRUE, # Avoid label overplotting (slow)\n",
    "             ggtheme = theme_classic()\n",
    "             )"
   ]
  },
  {
   "cell_type": "markdown",
   "metadata": {},
   "source": [
    "Summary\n",
    "\n",
    "The K-medoids algorithm, PAM, is a robust alternative to k-means for partitioning a data set into clusters of observation.\n",
    "\n",
    "In k-medoids method, each cluster is represented by a selected object within the cluster. The selected objects are named medoids and corresponds to the most centrally located points within the cluster.\n",
    "\n",
    "The PAM algorithm requires the user to know the data and to indicate the appropriate number of clusters to be produced. This can be estimated using the function `fviz_nbclust` [in factoextra R package].\n",
    "\n",
    "The R function `pam()` [cluster package] can be used to `compute PAM algorithm`. The simplified format is `pam(x, k)`, where `“x” is the data and k is the number of clusters to be generated`.\n",
    "\n",
    "After, performing PAM clustering, the R function `fviz_cluster()` [factoextra package] can be used to visualize the results. The format is `fviz_cluster(pam.res)`, where pam.res is the PAM results."
   ]
  },
  {
   "cell_type": "markdown",
   "metadata": {},
   "source": [
    "References\n",
    "\n",
    "Kaufman, Leonard, and Peter Rousseeuw. 1990. Finding Groups in Data: An Introduction to Cluster Analysis"
   ]
  },
  {
   "cell_type": "code",
   "execution_count": null,
   "metadata": {
    "collapsed": true
   },
   "outputs": [],
   "source": []
  }
 ],
 "metadata": {
  "kernelspec": {
   "display_name": "R",
   "language": "R",
   "name": "ir"
  }
 },
 "nbformat": 4,
 "nbformat_minor": 2
}
